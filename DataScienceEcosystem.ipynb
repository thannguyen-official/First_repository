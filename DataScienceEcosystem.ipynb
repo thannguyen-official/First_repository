{
  "metadata": {
    "kernelspec": {
      "name": "xpython",
      "display_name": "Python 3.13 (XPython)",
      "language": "python"
    },
    "language_info": {
      "file_extension": ".py",
      "mimetype": "text/x-python",
      "name": "python",
      "version": "3.13.1"
    }
  },
  "nbformat_minor": 5,
  "nbformat": 4,
  "cells": [
    {
      "id": "7cfef866-4b5e-41e3-9843-0e55f12495c8",
      "cell_type": "markdown",
      "source": "Data Science Tools and Ecosystem",
      "metadata": {}
    },
    {
      "id": "9f60e990-0b86-4e78-a501-3a6cfa13a886",
      "cell_type": "code",
      "source": "# In this notebook, Data Science Tools and Ecosystem are summarized.",
      "metadata": {
        "trusted": true
      },
      "outputs": [],
      "execution_count": null
    },
    {
      "id": "fe5af311-6477-43bb-a29f-8e2a673cb989",
      "cell_type": "code",
      "source": "# Some of the popular languages that Data Scientists use are:\n# Then create an ordered list (i.e. numbered) listing 3 (or more) commonly used languages for data science.\na=[\"1. pandas\", \"2. Numpy\", \"3. matplotlib\"]\nprint (a)",
      "metadata": {
        "trusted": true
      },
      "outputs": [
        {
          "name": "stdout",
          "output_type": "stream",
          "text": "['1. pandas', '2. Numpy', '3. matplotlib']\n"
        }
      ],
      "execution_count": 2
    },
    {
      "id": "1a6f217f-b20f-4d1c-9165-06755c013197",
      "cell_type": "markdown",
      "source": "a=[\"1. pandas\", \"2. Numpy\", \"3. matplotlib\"]\nprint (a)",
      "metadata": {}
    },
    {
      "id": "4f27f639-462a-4a1b-921c-143ae8f23ebf",
      "cell_type": "markdown",
      "source": "Data Science Tools|Jupyter Notebook |Rstudio| |Spyder|",
      "metadata": {}
    },
    {
      "id": "d18a465e-872a-449b-85ea-65baadc83b0d",
      "cell_type": "markdown",
      "source": "Below are a few examples of evaluating arithmetic expressions in Python.",
      "metadata": {}
    },
    {
      "id": "b924b084-468f-4259-93b0-b344feb4f9cc",
      "cell_type": "code",
      "source": "a = (3*4)+5",
      "metadata": {
        "trusted": true
      },
      "outputs": [],
      "execution_count": 4
    },
    {
      "id": "8abfcc27-7a45-4c88-9ea2-22b84b3c611b",
      "cell_type": "code",
      "source": "print(a)",
      "metadata": {
        "trusted": true
      },
      "outputs": [
        {
          "name": "stdout",
          "output_type": "stream",
          "text": "17\n"
        }
      ],
      "execution_count": 5
    },
    {
      "id": "788f90da-e9c8-449e-b476-c0bed816e1aa",
      "cell_type": "code",
      "source": "#This will convert 200 minutes to hours by diving by 60.",
      "metadata": {
        "trusted": true
      },
      "outputs": [],
      "execution_count": null
    },
    {
      "id": "23c03785-e52b-45dc-b122-7a6f456b3cf3",
      "cell_type": "code",
      "source": "minutes = 200\nhours = 200 // 60\nremaining_minutes = 200 % 60\nprint(hours,\" hours \", remaining_minutes, \"minutes\")",
      "metadata": {
        "trusted": true
      },
      "outputs": [
        {
          "name": "stdout",
          "output_type": "stream",
          "text": "3  hours  20 minutes\n"
        }
      ],
      "execution_count": 8
    },
    {
      "id": "706bba12-2714-4b02-830c-c46bb29db951",
      "cell_type": "markdown",
      "source": "Objective: List popular languages for Data Science.",
      "metadata": {}
    },
    {
      "id": "d01d68c7-d507-42cf-acf9-049ee6e12d1c",
      "cell_type": "markdown",
      "source": "Author: Will Nguyen",
      "metadata": {}
    },
    {
      "id": "28215450-a2b3-4015-86b7-68dfee5c4ff0",
      "cell_type": "code",
      "source": "",
      "metadata": {
        "trusted": true
      },
      "outputs": [],
      "execution_count": null
    }
  ]
}